{
 "cells": [
  {
   "cell_type": "markdown",
   "metadata": {},
   "source": [
    "# Using RDA APIs getMetadata and getRIFCS to investigate DirectDownloads\n",
    "\n",
    "NOTES: multiple-word search terms in the API queries need to be enclosed within url-coded quotation marks, written \"%22\""
   ]
  },
  {
   "cell_type": "code",
   "execution_count": 2,
   "metadata": {
    "collapsed": true,
    "jupyter": {
     "outputs_hidden": true,
     "source_hidden": true
    }
   },
   "outputs": [
    {
     "name": "stderr",
     "output_type": "stream",
     "text": [
      "\n",
      "Attaching package: ‘dplyr’\n",
      "\n",
      "The following objects are masked from ‘package:stats’:\n",
      "\n",
      "    filter, lag\n",
      "\n",
      "The following objects are masked from ‘package:base’:\n",
      "\n",
      "    intersect, setdiff, setequal, union\n",
      "\n"
     ]
    }
   ],
   "source": [
    "#setup\n",
    "library(httr)\n",
    "library(xml2)\n",
    "library(dplyr)"
   ]
  },
  {
   "cell_type": "markdown",
   "metadata": {},
   "source": [
    "\n",
    "\n",
    "I've defined a couple of little functions that talk to the RDA APIs getMetadata and getRIFCS. They take in query parameters and format the returned JSON/xml as something easier to interrogate in R"
   ]
  },
  {
   "cell_type": "code",
   "execution_count": 3,
   "metadata": {},
   "outputs": [],
   "source": [
    "#function to make a getMetadata API query\n",
    "getMetadata <- function(key, q, fl, start, rows){\n",
    "  url <- paste0(\"https://researchdata.ands.org.au/registry/services/\", key, \"/getMetadata.json?\", q, \"&\", fl, \"&\", start, \"&\", rows)\n",
    "  tidyUrl <- gsub(\" \", \"%20\", url)\n",
    "  resp <- GET(tidyUrl)\n",
    "  \n",
    "  out <- jsonlite::fromJSON(content(resp, \"text\"), simplifyVector = FALSE)\t\n",
    "  print(out$status)\n",
    "  print(paste(out$message$numFound, \"records found\"))\n",
    "  print(paste(length(out$message$docs), \"records returned\"))\n",
    "  print(paste(\"start =\", out$message$start))\n",
    "  out\n",
    "}"
   ]
  },
  {
   "cell_type": "code",
   "execution_count": 4,
   "metadata": {},
   "outputs": [],
   "source": [
    "#function to make a getRIFCS API query\n",
    "getRIFCS <- function(key, q, start, rows){\n",
    "  url <- paste0(\"https://researchdata.ands.org.au/registry/services/\", key, \"/getRIFCS?\", q, \"&\", start, \"&\", rows)\n",
    "  tidyUrl <- gsub(\" \", \"%20\", url)\n",
    "  resp <- GET(tidyUrl)\n",
    "  \n",
    "  out <- as_list(read_xml(resp))\n",
    "  print(paste(length(out$registryObjects), \"records returned\"))\n",
    "  out\n",
    "}"
   ]
  },
  {
   "cell_type": "markdown",
   "metadata": {},
   "source": [
    "q defines the query, and start and rows page through the returned records. getMetadata returns fields specified by the fl parameter, whereas getRIFCS returns the entire RIFCS record. "
   ]
  },
  {
   "cell_type": "code",
   "execution_count": 25,
   "metadata": {},
   "outputs": [
    {
     "name": "stderr",
     "output_type": "stream",
     "text": [
      "No encoding supplied: defaulting to UTF-8.\n"
     ]
    },
    {
     "name": "stdout",
     "output_type": "stream",
     "text": [
      "[1] \"success\"\n",
      "[1] \"8956 records found\"\n",
      "[1] \"20 records returned\"\n",
      "[1] \"start = 0\"\n"
     ]
    }
   ],
   "source": [
    "#example queries:\n",
    "key <- \"2a3d5f332582\"\n",
    "q <- \"q=access_methods_ss:(directDownload) AND class:(collection)\"\n",
    "fl <- \"fl=group_search,access_methods_ss\"\n",
    "start <- \"start=0\"\n",
    "rows <- \"rows=20\"\n",
    "\n",
    "x <- getMetadata(key, q, fl, start, rows)\n"
   ]
  },
  {
   "cell_type": "code",
   "execution_count": 27,
   "metadata": {},
   "outputs": [
    {
     "name": "stdout",
     "output_type": "stream",
     "text": [
      "[1] \"20 records returned\"\n"
     ]
    }
   ],
   "source": [
    "y <- getRIFCS(key, q, start, rows)"
   ]
  },
  {
   "cell_type": "markdown",
   "metadata": {},
   "source": [
    "___\n",
    "I started by comparing the number of records marked as directDownload to the number marked as landingPage"
   ]
  },
  {
   "cell_type": "code",
   "execution_count": 10,
   "metadata": {
    "jupyter": {
     "source_hidden": true
    }
   },
   "outputs": [
    {
     "name": "stderr",
     "output_type": "stream",
     "text": [
      "No encoding supplied: defaulting to UTF-8.\n"
     ]
    },
    {
     "name": "stdout",
     "output_type": "stream",
     "text": [
      "[1] \"success\"\n",
      "[1] \"8904 records found\"\n",
      "[1] \"20 records returned\"\n",
      "[1] \"start = 0\"\n"
     ]
    }
   ],
   "source": [
    "#find the number of records marked with directDownload access\n",
    "key <- \"2a3d5f332582\"\n",
    "q <- \"q=access_methods_ss:(directDownload) AND class:(collection)\"\n",
    "fl <- \"fl=group_search,access_methods_ss\"\n",
    "start <- \"start=0\"\n",
    "rows <- \"rows=20\"\n",
    "x <- getMetadata(key, q, fl, start, rows)"
   ]
  },
  {
   "cell_type": "code",
   "execution_count": 11,
   "metadata": {
    "jupyter": {
     "source_hidden": true
    }
   },
   "outputs": [
    {
     "name": "stderr",
     "output_type": "stream",
     "text": [
      "No encoding supplied: defaulting to UTF-8.\n"
     ]
    },
    {
     "name": "stdout",
     "output_type": "stream",
     "text": [
      "[1] \"success\"\n",
      "[1] \"48488 records found\"\n",
      "[1] \"20 records returned\"\n",
      "[1] \"start = 0\"\n"
     ]
    }
   ],
   "source": [
    "#find the number of records marked with landingPage access\n",
    "key <- \"2a3d5f332582\"\n",
    "q <- \"q=access_methods_ss:(landingPage) AND class:(collection)\"\n",
    "fl <- \"fl=group_search,access_methods_ss\"\n",
    "start <- \"start=0\"\n",
    "rows <- \"rows=20\"\n",
    "x <- getMetadata(key, q, fl, start, rows)"
   ]
  },
  {
   "cell_type": "markdown",
   "metadata": {},
   "source": [
    "___\n",
    "Then I broke down the directDownload records by submitting group"
   ]
  },
  {
   "cell_type": "code",
   "execution_count": 12,
   "metadata": {
    "jupyter": {
     "source_hidden": true
    }
   },
   "outputs": [
    {
     "name": "stderr",
     "output_type": "stream",
     "text": [
      "No encoding supplied: defaulting to UTF-8.\n"
     ]
    },
    {
     "name": "stdout",
     "output_type": "stream",
     "text": [
      "[1] \"success\"\n",
      "[1] \"8904 records found\"\n",
      "[1] \"8904 records returned\"\n",
      "[1] \"start = 0\"\n"
     ]
    },
    {
     "data": {
      "text/html": [
       "<table>\n",
       "<caption>A tibble: 11 × 2</caption>\n",
       "<thead>\n",
       "\t<tr><th scope=col>groups</th><th scope=col>n</th></tr>\n",
       "\t<tr><th scope=col>&lt;fct&gt;</th><th scope=col>&lt;int&gt;</th></tr>\n",
       "</thead>\n",
       "<tbody>\n",
       "\t<tr><td>ARC Centre of Excellence for Climate System Science     </td><td>  34</td></tr>\n",
       "\t<tr><td>Australian Institute of Marine Science                  </td><td> 935</td></tr>\n",
       "\t<tr><td>Australian Ocean Data Network                           </td><td>1487</td></tr>\n",
       "\t<tr><td>Australian Urban Research Infrastructure Network (AURIN)</td><td>5097</td></tr>\n",
       "\t<tr><td>CLEX                                                    </td><td>   3</td></tr>\n",
       "\t<tr><td>eAtlas                                                  </td><td> 132</td></tr>\n",
       "\t<tr><td>Integrated Marine Observing System                      </td><td> 977</td></tr>\n",
       "\t<tr><td>University of New South Wales                           </td><td>  17</td></tr>\n",
       "\t<tr><td>University of Southern Queensland                       </td><td>   1</td></tr>\n",
       "\t<tr><td>University of Tasmania, Australia                       </td><td> 220</td></tr>\n",
       "\t<tr><td>Victoria University                                     </td><td>   1</td></tr>\n",
       "</tbody>\n",
       "</table>\n"
      ],
      "text/latex": [
       "A tibble: 11 × 2\n",
       "\\begin{tabular}{r|ll}\n",
       " groups & n\\\\\n",
       " <fct> & <int>\\\\\n",
       "\\hline\n",
       "\t ARC Centre of Excellence for Climate System Science      &   34\\\\\n",
       "\t Australian Institute of Marine Science                   &  935\\\\\n",
       "\t Australian Ocean Data Network                            & 1487\\\\\n",
       "\t Australian Urban Research Infrastructure Network (AURIN) & 5097\\\\\n",
       "\t CLEX                                                     &    3\\\\\n",
       "\t eAtlas                                                   &  132\\\\\n",
       "\t Integrated Marine Observing System                       &  977\\\\\n",
       "\t University of New South Wales                            &   17\\\\\n",
       "\t University of Southern Queensland                        &    1\\\\\n",
       "\t University of Tasmania, Australia                        &  220\\\\\n",
       "\t Victoria University                                      &    1\\\\\n",
       "\\end{tabular}\n"
      ],
      "text/markdown": [
       "\n",
       "A tibble: 11 × 2\n",
       "\n",
       "| groups &lt;fct&gt; | n &lt;int&gt; |\n",
       "|---|---|\n",
       "| ARC Centre of Excellence for Climate System Science      |   34 |\n",
       "| Australian Institute of Marine Science                   |  935 |\n",
       "| Australian Ocean Data Network                            | 1487 |\n",
       "| Australian Urban Research Infrastructure Network (AURIN) | 5097 |\n",
       "| CLEX                                                     |    3 |\n",
       "| eAtlas                                                   |  132 |\n",
       "| Integrated Marine Observing System                       |  977 |\n",
       "| University of New South Wales                            |   17 |\n",
       "| University of Southern Queensland                        |    1 |\n",
       "| University of Tasmania, Australia                        |  220 |\n",
       "| Victoria University                                      |    1 |\n",
       "\n"
      ],
      "text/plain": [
       "   groups                                                   n   \n",
       "1  ARC Centre of Excellence for Climate System Science        34\n",
       "2  Australian Institute of Marine Science                    935\n",
       "3  Australian Ocean Data Network                            1487\n",
       "4  Australian Urban Research Infrastructure Network (AURIN) 5097\n",
       "5  CLEX                                                        3\n",
       "6  eAtlas                                                    132\n",
       "7  Integrated Marine Observing System                        977\n",
       "8  University of New South Wales                              17\n",
       "9  University of Southern Queensland                           1\n",
       "10 University of Tasmania, Australia                         220\n",
       "11 Victoria University                                         1"
      ]
     },
     "metadata": {},
     "output_type": "display_data"
    }
   ],
   "source": [
    "#summarise the groups with directDownload records\n",
    "key <- \"2a3d5f332582\"\n",
    "q <- \"q=access_methods_ss:(directDownload) AND class:(collection)\"\n",
    "fl <- \"fl=group_search,access_methods_ss\"\n",
    "start <- \"start=0\"\n",
    "rows <- \"rows=9000\"\n",
    "\n",
    "x <- getMetadata(key, q, fl, start, rows)\n",
    "\n",
    "#list the group for each record returned:\n",
    "\n",
    "#find the number of records returned\n",
    "numRec <- length(x$message$docs)\n",
    "groups <-vector(length = numRec, mode = \"character\")\n",
    "\n",
    "#iterate through the records pulling the group\n",
    "for(i in 1:numRec){\n",
    "  groups[i] <- x$message$docs[[i]]$group_search\n",
    "}\n",
    "\n",
    "groups <- as.data.frame(groups)\n",
    "groups <- group_by(groups, groups)\n",
    "\n",
    "summarise(groups, n = n())"
   ]
  },
  {
   "cell_type": "markdown",
   "metadata": {},
   "source": [
    "___\n",
    "We want to investigate the supplied directDownload links: the function below runs through the directDownload records supplied by a group and finds the unique key for the record, the number of electronic addresses supplied, the number of directDownload addresses supplied, and one of those directDownload addresses (in cases where there is more than one, currently it records the last one given). "
   ]
  },
  {
   "cell_type": "code",
   "execution_count": 13,
   "metadata": {
    "jupyter": {
     "source_hidden": true
    }
   },
   "outputs": [],
   "source": [
    "#function to find the download location given for each of a group's records:\n",
    "\n",
    "findDirectDownloads <- function(group, numRows){\n",
    "  \n",
    "  key <- \"2a3d5f332582\"\n",
    "  q <- paste0(\"q=access_methods_ss:(directDownload) AND class:(collection) AND group_search:(%22\", group, \"%22)\")\n",
    "  start <- \"start=0\"\n",
    "  rows <- paste0(\"rows=\", numRows)\n",
    "  \n",
    "  x <- getRIFCS(key, q, start, rows)\n",
    "  \n",
    "  downloadInfo <- data.frame(matrix(nrow = length(x$registryObjects), ncol = 5))\n",
    "  names(downloadInfo) <- c(\"key\", \"name\", \"numberElectronicAddresses\", \"numberDirectDownload\", \"directDownloadAddress\")\n",
    "  for(i in 1:length(x$registryObjects)){\n",
    "    downloadInfo[i,1] <- x$registryObjects[i]$registryObject$key[[1]]\n",
    "    downloadInfo[i,2] <- x$registryObjects[i]$registryObject$collection$name$namePart[[1]]\n",
    "    \n",
    "    #we want to find the address for the \"electronic\" elements which have been tagged as \"directDownload\".\n",
    "    \n",
    "    #each collection can contain multiple location elements, each of which can contain multiple address elements,\n",
    "    #each of which can contain multiple electronic elements. \n",
    "  \n",
    "    #make an empty list to hold all of the electronic elements for this record\n",
    "    electronicList <- list()\n",
    "    \n",
    "    #find all the \"location\" elements for this record\n",
    "    locationElements <- which(names(x$registryObjects[[i]]$collection)==\"location\")\n",
    "    #for each location element...\n",
    "    for(l in 1:length(locationElements)){\n",
    "      #take that element\n",
    "      currentLocationElement <- x$registryObjects[[i]]$collection[[locationElements[l]]]\n",
    "      #find all the nested \"address\" elements \n",
    "      addressElements <- which(names(currentLocationElement)==\"address\")\n",
    "      #for each address element...\n",
    "      for(a in 1:length(addressElements)){\n",
    "        #take that element\n",
    "        currentAddressElement <- currentLocationElement[[addressElements[a]]]\n",
    "        #find all the nested \"electronic\" elements\n",
    "        electronicElements <- which(names(currentAddressElement)==\"electronic\")\n",
    "        #pull them into a list\n",
    "        electronicOnly <- currentAddressElement[electronicElements]\n",
    "        #and append that list onto the overall list of electronic elements for this record\n",
    "        electronicList <- c(electronicList, electronicOnly)\n",
    "      }\n",
    "    }\n",
    "    \n",
    "    #record the number of electronic address location elements\n",
    "    downloadInfo[i,3] <- length(electronicList)\n",
    "    \n",
    "    #count the number of these that are tagged as directDownload\n",
    "    isDirect <- function(inputElement){\n",
    "      if(is.null(attributes(inputElement)$target)){\n",
    "        FALSE\n",
    "        }else{\n",
    "        attributes(inputElement)$target == \"directDownload\"\n",
    "      }\n",
    "    }\n",
    "    downloadInfo[i,4] <- sum(sapply(electronicList, isDirect))\n",
    "    \n",
    "    #run through the list of electronic elements until you find a directDownload one and copy out the url\n",
    "    #note - this will currently overwrite with any subsequent directDownload elements for this record,\n",
    "    #so what is written here will be the last directDownload element. \n",
    "    for(j in 1:length(electronicList)){\n",
    "      if (is.null(attributes(electronicList[[j]])$target)){\n",
    "        #if this element doesn't have a target attribute, don't do anything about it\n",
    "      }else{\n",
    "        if (attributes(electronicList[[j]])$target == \"directDownload\"){\n",
    "          downloadInfo[i,5] <- electronicList[[j]]$value[[1]]\n",
    "        }\n",
    "      }\n",
    "    }\n",
    "  }\n",
    "  downloadInfo\n",
    "}\n"
   ]
  },
  {
   "cell_type": "code",
   "execution_count": 15,
   "metadata": {
    "jupyter": {
     "source_hidden": true
    }
   },
   "outputs": [
    {
     "name": "stdout",
     "output_type": "stream",
     "text": [
      "[1] \"34 records returned\"\n",
      "[1] \"935 records returned\"\n",
      "[1] \"1487 records returned\"\n",
      "[1] \"5097 records returned\"\n",
      "[1] \"3 records returned\"\n",
      "[1] \"132 records returned\"\n",
      "[1] \"977 records returned\"\n",
      "[1] \"17 records returned\"\n",
      "[1] \"1 records returned\"\n",
      "[1] \"220 records returned\"\n",
      "[1] \"1 records returned\"\n"
     ]
    }
   ],
   "source": [
    "CSS <- findDirectDownloads(\"ARC Centre of Excellence for Climate System Science\", 5100)\n",
    "AIMS <- findDirectDownloads(\"Australian Institute of Marine Science\", 5100)\n",
    "AODN <- findDirectDownloads(\"Australian Ocean Data Network\", 5100)\n",
    "AURIN <- findDirectDownloads(\"Australian Urban Research Infrastructure Network (AURIN)\", 5100)\n",
    "CLEX <- findDirectDownloads(\"CLEX\", 5100)\n",
    "eAtlas <- findDirectDownloads(\"eAtlas\", 5100)\n",
    "IMOS <- findDirectDownloads(\"Integrated Marine Observing System\", 5100)\n",
    "UNSW <- findDirectDownloads(\"University of New South Wales\", 5100)\n",
    "USQ <- findDirectDownloads(\"University of Southern Queensland\", 5100)\n",
    "UTas <- findDirectDownloads(\"University of Tasmania, Australia\", 5100)\n",
    "VU <- findDirectDownloads(\"Victoria University\", 5100)"
   ]
  },
  {
   "cell_type": "markdown",
   "metadata": {},
   "source": [
    "____\n",
    "\n",
    "The directDownload targets supplied should be different for each record. Here we can see that there are some duplicated targets for most groups, and some serious issues for some groups (e.g. AURIN has supplied the same directDownload target for 5097 records...)"
   ]
  },
  {
   "cell_type": "code",
   "execution_count": 17,
   "metadata": {
    "jupyter": {
     "source_hidden": true
    }
   },
   "outputs": [],
   "source": [
    "#this function counts the number of unique directDownload targets:\n",
    "countUnique <- function(group){\n",
    "  print(paste0(deparse(substitute(group)), \": \", length(unique(group$directDownloadAddress)), \" unique of \", length(group$directDownloadAddress)))\n",
    "}"
   ]
  },
  {
   "cell_type": "code",
   "execution_count": 18,
   "metadata": {
    "jupyter": {
     "source_hidden": true
    }
   },
   "outputs": [
    {
     "name": "stdout",
     "output_type": "stream",
     "text": [
      "[1] \"CSS: 32 unique of 34\"\n",
      "[1] \"AIMS: 926 unique of 935\"\n",
      "[1] \"AODN: 1256 unique of 1487\"\n",
      "[1] \"AURIN: 1 unique of 5097\"\n",
      "[1] \"CLEX: 3 unique of 3\"\n",
      "[1] \"eAtlas: 132 unique of 132\"\n",
      "[1] \"IMOS: 763 unique of 977\"\n",
      "[1] \"UNSW: 17 unique of 17\"\n",
      "[1] \"USQ: 1 unique of 1\"\n",
      "[1] \"UTas: 213 unique of 220\"\n",
      "[1] \"VU: 1 unique of 1\"\n"
     ]
    }
   ],
   "source": [
    "countUnique(CSS)\n",
    "countUnique(AIMS)\n",
    "countUnique(AODN)\n",
    "countUnique(AURIN)\n",
    "countUnique(CLEX)\n",
    "countUnique(eAtlas)\n",
    "countUnique(IMOS)\n",
    "countUnique(UNSW)\n",
    "countUnique(USQ)\n",
    "countUnique(UTas)\n",
    "countUnique(VU)"
   ]
  },
  {
   "cell_type": "markdown",
   "metadata": {},
   "source": [
    "___\n",
    "Something to note here is that some records have more than one directDownload link and we've only been looking at the last one listed, so we may not be seeing all the unique links: I've shown how many of the records have multiple directDownload links here."
   ]
  },
  {
   "cell_type": "code",
   "execution_count": 21,
   "metadata": {
    "jupyter": {
     "source_hidden": true
    }
   },
   "outputs": [],
   "source": [
    "#function to find out how many records have more than one directDownload link\n",
    "multipleDirect <- function(group){\n",
    "  print(paste0(deparse(substitute(group)), \": \", sum(group$numberDirectDownload > 1)))\n",
    "}"
   ]
  },
  {
   "cell_type": "code",
   "execution_count": 22,
   "metadata": {
    "jupyter": {
     "source_hidden": true
    }
   },
   "outputs": [
    {
     "name": "stdout",
     "output_type": "stream",
     "text": [
      "[1] \"CSS: 0\"\n",
      "[1] \"AIMS: 926\"\n",
      "[1] \"AODN: 1061\"\n",
      "[1] \"AURIN: 0\"\n",
      "[1] \"CLEX: 0\"\n",
      "[1] \"eAtlas: 53\"\n",
      "[1] \"IMOS: 762\"\n",
      "[1] \"UNSW: 5\"\n",
      "[1] \"USQ: 0\"\n",
      "[1] \"UTas: 51\"\n",
      "[1] \"VU: 0\"\n"
     ]
    }
   ],
   "source": [
    "multipleDirect(CSS)\n",
    "multipleDirect(AIMS)\n",
    "multipleDirect(AODN)\n",
    "multipleDirect(AURIN)\n",
    "multipleDirect(CLEX)\n",
    "multipleDirect(eAtlas)\n",
    "multipleDirect(IMOS)\n",
    "multipleDirect(UNSW)\n",
    "multipleDirect(USQ)\n",
    "multipleDirect(UTas)\n",
    "multipleDirect(VU)"
   ]
  },
  {
   "cell_type": "markdown",
   "metadata": {},
   "source": [
    "___\n",
    "I've also found that some records returned in our search for access method: direct download don't have an address element marked directDownload at all (we're investigating why that might be) - this is a count of how often that occurs for each group"
   ]
  },
  {
   "cell_type": "code",
   "execution_count": 23,
   "metadata": {
    "jupyter": {
     "source_hidden": true
    }
   },
   "outputs": [],
   "source": [
    "#function to find out how many records have zero directDownload links \n",
    "noDirect <- function(group){\n",
    "  print(paste0(deparse(substitute(group)), \": \", sum(group$numberDirectDownload == 0)))\n",
    "}"
   ]
  },
  {
   "cell_type": "code",
   "execution_count": 24,
   "metadata": {
    "jupyter": {
     "source_hidden": true
    }
   },
   "outputs": [
    {
     "name": "stdout",
     "output_type": "stream",
     "text": [
      "[1] \"CSS: 0\"\n",
      "[1] \"AIMS: 0\"\n",
      "[1] \"AODN: 222\"\n",
      "[1] \"AURIN: 0\"\n",
      "[1] \"CLEX: 0\"\n",
      "[1] \"eAtlas: 0\"\n",
      "[1] \"IMOS: 215\"\n",
      "[1] \"UNSW: 0\"\n",
      "[1] \"USQ: 0\"\n",
      "[1] \"UTas: 7\"\n",
      "[1] \"VU: 0\"\n"
     ]
    }
   ],
   "source": [
    "noDirect(CSS)\n",
    "noDirect(AIMS)\n",
    "noDirect(AODN)\n",
    "noDirect(AURIN)\n",
    "noDirect(CLEX)\n",
    "noDirect(eAtlas)\n",
    "noDirect(IMOS)\n",
    "noDirect(UNSW)\n",
    "noDirect(USQ)\n",
    "noDirect(UTas)\n",
    "noDirect(VU)"
   ]
  },
  {
   "cell_type": "code",
   "execution_count": null,
   "metadata": {},
   "outputs": [],
   "source": []
  }
 ],
 "metadata": {
  "kernelspec": {
   "display_name": "R",
   "language": "R",
   "name": "ir"
  },
  "language_info": {
   "codemirror_mode": "r",
   "file_extension": ".r",
   "mimetype": "text/x-r-source",
   "name": "R",
   "pygments_lexer": "r",
   "version": "3.5.3"
  }
 },
 "nbformat": 4,
 "nbformat_minor": 4
}
